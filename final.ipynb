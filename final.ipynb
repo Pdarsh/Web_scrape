{
 "cells": [
  {
   "cell_type": "code",
   "execution_count": 66,
   "metadata": {},
   "outputs": [
    {
     "data": {
      "text/html": [
       "<div>\n",
       "<style scoped>\n",
       "    .dataframe tbody tr th:only-of-type {\n",
       "        vertical-align: middle;\n",
       "    }\n",
       "\n",
       "    .dataframe tbody tr th {\n",
       "        vertical-align: top;\n",
       "    }\n",
       "\n",
       "    .dataframe thead th {\n",
       "        text-align: right;\n",
       "    }\n",
       "</style>\n",
       "<table border=\"1\" class=\"dataframe\">\n",
       "  <thead>\n",
       "    <tr style=\"text-align: right;\">\n",
       "      <th></th>\n",
       "      <th>Unnamed: 0</th>\n",
       "      <th>Area</th>\n",
       "      <th>Type</th>\n",
       "      <th>Price</th>\n",
       "      <th>Apartment Name</th>\n",
       "    </tr>\n",
       "  </thead>\n",
       "  <tbody>\n",
       "    <tr>\n",
       "      <th>0</th>\n",
       "      <td>0</td>\n",
       "      <td>Tembhode, Palghar</td>\n",
       "      <td>2 BHK Apartment</td>\n",
       "      <td>28.49 L - 39.59 L</td>\n",
       "      <td>Nisarg Shrushti Phase 1</td>\n",
       "    </tr>\n",
       "    <tr>\n",
       "      <th>1</th>\n",
       "      <td>1</td>\n",
       "      <td>Amba Wadi, Palghar</td>\n",
       "      <td>1 BHK Apartment</td>\n",
       "      <td>12.62 L - 14.15 L</td>\n",
       "      <td>Saraswati Mateshwari Complex</td>\n",
       "    </tr>\n",
       "    <tr>\n",
       "      <th>2</th>\n",
       "      <td>2</td>\n",
       "      <td>Bachu Bhai Dube Industrial Estate, Palghar</td>\n",
       "      <td>1, 2 BHK Apartments</td>\n",
       "      <td>24.05 L - 31.82 L</td>\n",
       "      <td>Rajesh Mahavir Gyan</td>\n",
       "    </tr>\n",
       "    <tr>\n",
       "      <th>3</th>\n",
       "      <td>3</td>\n",
       "      <td>Haranwali, Palghar</td>\n",
       "      <td>1, 2 BHK Apartments</td>\n",
       "      <td>15.74 L - 22.2 L</td>\n",
       "      <td>Laxmi Complex</td>\n",
       "    </tr>\n",
       "    <tr>\n",
       "      <th>4</th>\n",
       "      <td>4</td>\n",
       "      <td>Bachu Bhai Dube Industrial Estate, Palghar</td>\n",
       "      <td>1, 2 BHK Apartments</td>\n",
       "      <td>NaN</td>\n",
       "      <td>Rajesh Mahavir Chhaya</td>\n",
       "    </tr>\n",
       "    <tr>\n",
       "      <th>5</th>\n",
       "      <td>5</td>\n",
       "      <td>Haranwali, Palghar</td>\n",
       "      <td>1, 2 BHK Apartments</td>\n",
       "      <td>18.89 L - 27.59 L</td>\n",
       "      <td>Aditya Shail Kunj</td>\n",
       "    </tr>\n",
       "    <tr>\n",
       "      <th>6</th>\n",
       "      <td>6</td>\n",
       "      <td>Haranwali, Palghar</td>\n",
       "      <td>2 BHK Apartment</td>\n",
       "      <td>NaN</td>\n",
       "      <td>Ipsit Sweet Home Building 1</td>\n",
       "    </tr>\n",
       "    <tr>\n",
       "      <th>7</th>\n",
       "      <td>7</td>\n",
       "      <td>Saphale, Palghar</td>\n",
       "      <td>2, 3 BHK Apartments</td>\n",
       "      <td>NaN</td>\n",
       "      <td>Prem Indraprastha 4</td>\n",
       "    </tr>\n",
       "    <tr>\n",
       "      <th>8</th>\n",
       "      <td>8</td>\n",
       "      <td>Haranwali, Palghar</td>\n",
       "      <td>1 BHK Apartment</td>\n",
       "      <td>16.8 L</td>\n",
       "      <td>Sai Pooja Satyam Enclave</td>\n",
       "    </tr>\n",
       "    <tr>\n",
       "      <th>9</th>\n",
       "      <td>9</td>\n",
       "      <td>Boisar, Palghar</td>\n",
       "      <td>1, 2, 3 BHK Apartments</td>\n",
       "      <td>22.42 L - 34.2 L</td>\n",
       "      <td>Sai Rydam Vibrant Homes</td>\n",
       "    </tr>\n",
       "  </tbody>\n",
       "</table>\n",
       "</div>"
      ],
      "text/plain": [
       "   Unnamed: 0                                        Area  \\\n",
       "0           0                           Tembhode, Palghar   \n",
       "1           1                          Amba Wadi, Palghar   \n",
       "2           2  Bachu Bhai Dube Industrial Estate, Palghar   \n",
       "3           3                          Haranwali, Palghar   \n",
       "4           4  Bachu Bhai Dube Industrial Estate, Palghar   \n",
       "5           5                          Haranwali, Palghar   \n",
       "6           6                          Haranwali, Palghar   \n",
       "7           7                            Saphale, Palghar   \n",
       "8           8                          Haranwali, Palghar   \n",
       "9           9                             Boisar, Palghar   \n",
       "\n",
       "                     Type              Price                Apartment Name  \n",
       "0         2 BHK Apartment  28.49 L - 39.59 L       Nisarg Shrushti Phase 1  \n",
       "1         1 BHK Apartment  12.62 L - 14.15 L  Saraswati Mateshwari Complex  \n",
       "2     1, 2 BHK Apartments  24.05 L - 31.82 L           Rajesh Mahavir Gyan  \n",
       "3     1, 2 BHK Apartments   15.74 L - 22.2 L                 Laxmi Complex  \n",
       "4     1, 2 BHK Apartments                NaN         Rajesh Mahavir Chhaya  \n",
       "5     1, 2 BHK Apartments  18.89 L - 27.59 L             Aditya Shail Kunj  \n",
       "6         2 BHK Apartment                NaN   Ipsit Sweet Home Building 1  \n",
       "7     2, 3 BHK Apartments                NaN           Prem Indraprastha 4  \n",
       "8         1 BHK Apartment             16.8 L      Sai Pooja Satyam Enclave  \n",
       "9  1, 2, 3 BHK Apartments   22.42 L - 34.2 L       Sai Rydam Vibrant Homes  "
      ]
     },
     "execution_count": 66,
     "metadata": {},
     "output_type": "execute_result"
    }
   ],
   "source": [
    "import pandas as pd\n",
    "import numpy as np\n",
    "\n",
    "df = pd.read_csv(\"palghar_rates.csv\")\n",
    "df.replace(\"Price on Request\", np.nan, inplace = True)\n",
    "df.head(10)"
   ]
  },
  {
   "cell_type": "code",
   "execution_count": 67,
   "metadata": {},
   "outputs": [
    {
     "data": {
      "text/html": [
       "<div>\n",
       "<style scoped>\n",
       "    .dataframe tbody tr th:only-of-type {\n",
       "        vertical-align: middle;\n",
       "    }\n",
       "\n",
       "    .dataframe tbody tr th {\n",
       "        vertical-align: top;\n",
       "    }\n",
       "\n",
       "    .dataframe thead th {\n",
       "        text-align: right;\n",
       "    }\n",
       "</style>\n",
       "<table border=\"1\" class=\"dataframe\">\n",
       "  <thead>\n",
       "    <tr style=\"text-align: right;\">\n",
       "      <th></th>\n",
       "      <th>Unnamed: 0</th>\n",
       "      <th>Area</th>\n",
       "      <th>Type</th>\n",
       "      <th>Price</th>\n",
       "      <th>Apartment Name</th>\n",
       "    </tr>\n",
       "  </thead>\n",
       "  <tbody>\n",
       "    <tr>\n",
       "      <th>0</th>\n",
       "      <td>0</td>\n",
       "      <td>Tembhode, Palghar</td>\n",
       "      <td>2 BHK Apartment</td>\n",
       "      <td>28.49 L - 39.59 L</td>\n",
       "      <td>Nisarg Shrushti Phase 1</td>\n",
       "    </tr>\n",
       "    <tr>\n",
       "      <th>1</th>\n",
       "      <td>1</td>\n",
       "      <td>Amba Wadi, Palghar</td>\n",
       "      <td>1 BHK Apartment</td>\n",
       "      <td>12.62 L - 14.15 L</td>\n",
       "      <td>Saraswati Mateshwari Complex</td>\n",
       "    </tr>\n",
       "    <tr>\n",
       "      <th>2</th>\n",
       "      <td>2</td>\n",
       "      <td>Bachu Bhai Dube Industrial Estate, Palghar</td>\n",
       "      <td>1, 2 BHK Apartments</td>\n",
       "      <td>24.05 L - 31.82 L</td>\n",
       "      <td>Rajesh Mahavir Gyan</td>\n",
       "    </tr>\n",
       "    <tr>\n",
       "      <th>3</th>\n",
       "      <td>3</td>\n",
       "      <td>Haranwali, Palghar</td>\n",
       "      <td>1, 2 BHK Apartments</td>\n",
       "      <td>15.74 L - 22.2 L</td>\n",
       "      <td>Laxmi Complex</td>\n",
       "    </tr>\n",
       "    <tr>\n",
       "      <th>4</th>\n",
       "      <td>5</td>\n",
       "      <td>Haranwali, Palghar</td>\n",
       "      <td>1, 2 BHK Apartments</td>\n",
       "      <td>18.89 L - 27.59 L</td>\n",
       "      <td>Aditya Shail Kunj</td>\n",
       "    </tr>\n",
       "  </tbody>\n",
       "</table>\n",
       "</div>"
      ],
      "text/plain": [
       "   Unnamed: 0                                        Area  \\\n",
       "0           0                           Tembhode, Palghar   \n",
       "1           1                          Amba Wadi, Palghar   \n",
       "2           2  Bachu Bhai Dube Industrial Estate, Palghar   \n",
       "3           3                          Haranwali, Palghar   \n",
       "4           5                          Haranwali, Palghar   \n",
       "\n",
       "                  Type              Price                Apartment Name  \n",
       "0      2 BHK Apartment  28.49 L - 39.59 L       Nisarg Shrushti Phase 1  \n",
       "1      1 BHK Apartment  12.62 L - 14.15 L  Saraswati Mateshwari Complex  \n",
       "2  1, 2 BHK Apartments  24.05 L - 31.82 L           Rajesh Mahavir Gyan  \n",
       "3  1, 2 BHK Apartments   15.74 L - 22.2 L                 Laxmi Complex  \n",
       "4  1, 2 BHK Apartments  18.89 L - 27.59 L             Aditya Shail Kunj  "
      ]
     },
     "execution_count": 67,
     "metadata": {},
     "output_type": "execute_result"
    }
   ],
   "source": [
    "# simply drop whole row with NaN in \"price\" column\n",
    "df.dropna(subset=[\"Price\"], axis=0, inplace=True)\n",
    "\n",
    "# reset index, because we droped two rows\n",
    "df.reset_index(drop=True, inplace=True)\n",
    "df.head()"
   ]
  },
  {
   "cell_type": "code",
   "execution_count": 68,
   "metadata": {},
   "outputs": [],
   "source": [
    "df['Price'] = df.Price.str.replace('L', '')"
   ]
  },
  {
   "cell_type": "code",
   "execution_count": 69,
   "metadata": {},
   "outputs": [
    {
     "data": {
      "text/html": [
       "<div>\n",
       "<style scoped>\n",
       "    .dataframe tbody tr th:only-of-type {\n",
       "        vertical-align: middle;\n",
       "    }\n",
       "\n",
       "    .dataframe tbody tr th {\n",
       "        vertical-align: top;\n",
       "    }\n",
       "\n",
       "    .dataframe thead th {\n",
       "        text-align: right;\n",
       "    }\n",
       "</style>\n",
       "<table border=\"1\" class=\"dataframe\">\n",
       "  <thead>\n",
       "    <tr style=\"text-align: right;\">\n",
       "      <th></th>\n",
       "      <th>Unnamed: 0</th>\n",
       "      <th>Area</th>\n",
       "      <th>Type</th>\n",
       "      <th>Price in Lakhs</th>\n",
       "      <th>Apartment Name</th>\n",
       "    </tr>\n",
       "  </thead>\n",
       "  <tbody>\n",
       "    <tr>\n",
       "      <th>0</th>\n",
       "      <td>0</td>\n",
       "      <td>Tembhode, Palghar</td>\n",
       "      <td>2 BHK Apartment</td>\n",
       "      <td>28.49  - 39.59</td>\n",
       "      <td>Nisarg Shrushti Phase 1</td>\n",
       "    </tr>\n",
       "    <tr>\n",
       "      <th>1</th>\n",
       "      <td>1</td>\n",
       "      <td>Amba Wadi, Palghar</td>\n",
       "      <td>1 BHK Apartment</td>\n",
       "      <td>12.62  - 14.15</td>\n",
       "      <td>Saraswati Mateshwari Complex</td>\n",
       "    </tr>\n",
       "    <tr>\n",
       "      <th>2</th>\n",
       "      <td>2</td>\n",
       "      <td>Bachu Bhai Dube Industrial Estate, Palghar</td>\n",
       "      <td>1, 2 BHK Apartments</td>\n",
       "      <td>24.05  - 31.82</td>\n",
       "      <td>Rajesh Mahavir Gyan</td>\n",
       "    </tr>\n",
       "    <tr>\n",
       "      <th>3</th>\n",
       "      <td>3</td>\n",
       "      <td>Haranwali, Palghar</td>\n",
       "      <td>1, 2 BHK Apartments</td>\n",
       "      <td>15.74  - 22.2</td>\n",
       "      <td>Laxmi Complex</td>\n",
       "    </tr>\n",
       "    <tr>\n",
       "      <th>4</th>\n",
       "      <td>5</td>\n",
       "      <td>Haranwali, Palghar</td>\n",
       "      <td>1, 2 BHK Apartments</td>\n",
       "      <td>18.89  - 27.59</td>\n",
       "      <td>Aditya Shail Kunj</td>\n",
       "    </tr>\n",
       "  </tbody>\n",
       "</table>\n",
       "</div>"
      ],
      "text/plain": [
       "   Unnamed: 0                                        Area  \\\n",
       "0           0                           Tembhode, Palghar   \n",
       "1           1                          Amba Wadi, Palghar   \n",
       "2           2  Bachu Bhai Dube Industrial Estate, Palghar   \n",
       "3           3                          Haranwali, Palghar   \n",
       "4           5                          Haranwali, Palghar   \n",
       "\n",
       "                  Type   Price in Lakhs                Apartment Name  \n",
       "0      2 BHK Apartment  28.49  - 39.59        Nisarg Shrushti Phase 1  \n",
       "1      1 BHK Apartment  12.62  - 14.15   Saraswati Mateshwari Complex  \n",
       "2  1, 2 BHK Apartments  24.05  - 31.82            Rajesh Mahavir Gyan  \n",
       "3  1, 2 BHK Apartments   15.74  - 22.2                  Laxmi Complex  \n",
       "4  1, 2 BHK Apartments  18.89  - 27.59              Aditya Shail Kunj  "
      ]
     },
     "execution_count": 69,
     "metadata": {},
     "output_type": "execute_result"
    }
   ],
   "source": [
    "df.rename(columns = {\"Price\":\"Price in Lakhs\"},inplace = True)\n",
    "df.head()"
   ]
  },
  {
   "cell_type": "code",
   "execution_count": 70,
   "metadata": {},
   "outputs": [
    {
     "data": {
      "text/html": [
       "<div>\n",
       "<style scoped>\n",
       "    .dataframe tbody tr th:only-of-type {\n",
       "        vertical-align: middle;\n",
       "    }\n",
       "\n",
       "    .dataframe tbody tr th {\n",
       "        vertical-align: top;\n",
       "    }\n",
       "\n",
       "    .dataframe thead th {\n",
       "        text-align: right;\n",
       "    }\n",
       "</style>\n",
       "<table border=\"1\" class=\"dataframe\">\n",
       "  <thead>\n",
       "    <tr style=\"text-align: right;\">\n",
       "      <th></th>\n",
       "      <th>Area</th>\n",
       "      <th>Type</th>\n",
       "      <th>Price in Lakhs</th>\n",
       "      <th>Apartment Name</th>\n",
       "    </tr>\n",
       "  </thead>\n",
       "  <tbody>\n",
       "    <tr>\n",
       "      <th>0</th>\n",
       "      <td>Tembhode, Palghar</td>\n",
       "      <td>2 BHK Apartment</td>\n",
       "      <td>28.49  - 39.59</td>\n",
       "      <td>Nisarg Shrushti Phase 1</td>\n",
       "    </tr>\n",
       "    <tr>\n",
       "      <th>1</th>\n",
       "      <td>Amba Wadi, Palghar</td>\n",
       "      <td>1 BHK Apartment</td>\n",
       "      <td>12.62  - 14.15</td>\n",
       "      <td>Saraswati Mateshwari Complex</td>\n",
       "    </tr>\n",
       "    <tr>\n",
       "      <th>2</th>\n",
       "      <td>Bachu Bhai Dube Industrial Estate, Palghar</td>\n",
       "      <td>1, 2 BHK Apartments</td>\n",
       "      <td>24.05  - 31.82</td>\n",
       "      <td>Rajesh Mahavir Gyan</td>\n",
       "    </tr>\n",
       "    <tr>\n",
       "      <th>3</th>\n",
       "      <td>Haranwali, Palghar</td>\n",
       "      <td>1, 2 BHK Apartments</td>\n",
       "      <td>15.74  - 22.2</td>\n",
       "      <td>Laxmi Complex</td>\n",
       "    </tr>\n",
       "    <tr>\n",
       "      <th>4</th>\n",
       "      <td>Haranwali, Palghar</td>\n",
       "      <td>1, 2 BHK Apartments</td>\n",
       "      <td>18.89  - 27.59</td>\n",
       "      <td>Aditya Shail Kunj</td>\n",
       "    </tr>\n",
       "  </tbody>\n",
       "</table>\n",
       "</div>"
      ],
      "text/plain": [
       "                                         Area                 Type  \\\n",
       "0                           Tembhode, Palghar      2 BHK Apartment   \n",
       "1                          Amba Wadi, Palghar      1 BHK Apartment   \n",
       "2  Bachu Bhai Dube Industrial Estate, Palghar  1, 2 BHK Apartments   \n",
       "3                          Haranwali, Palghar  1, 2 BHK Apartments   \n",
       "4                          Haranwali, Palghar  1, 2 BHK Apartments   \n",
       "\n",
       "    Price in Lakhs                Apartment Name  \n",
       "0  28.49  - 39.59        Nisarg Shrushti Phase 1  \n",
       "1  12.62  - 14.15   Saraswati Mateshwari Complex  \n",
       "2  24.05  - 31.82            Rajesh Mahavir Gyan  \n",
       "3   15.74  - 22.2                  Laxmi Complex  \n",
       "4  18.89  - 27.59              Aditya Shail Kunj  "
      ]
     },
     "execution_count": 70,
     "metadata": {},
     "output_type": "execute_result"
    }
   ],
   "source": [
    "df = df[['Area','Type','Price in Lakhs','Apartment Name']]\n",
    "df.head()"
   ]
  },
  {
   "cell_type": "code",
   "execution_count": 71,
   "metadata": {},
   "outputs": [
    {
     "data": {
      "text/plain": [
       "(243, 4)"
      ]
     },
     "execution_count": 71,
     "metadata": {},
     "output_type": "execute_result"
    }
   ],
   "source": [
    "df.shape"
   ]
  },
  {
   "cell_type": "code",
   "execution_count": 72,
   "metadata": {},
   "outputs": [
    {
     "name": "stdout",
     "output_type": "stream",
     "text": [
      "41\n"
     ]
    }
   ],
   "source": [
    "prices = list(df['Price in Lakhs'])\n",
    "#print(prices)\n",
    "price = []\n",
    "for x in prices:\n",
    "    if(len(x)<9):\n",
    "        price.append(x)\n",
    "print(len(price))"
   ]
  },
  {
   "cell_type": "code",
   "execution_count": 89,
   "metadata": {},
   "outputs": [
    {
     "name": "stderr",
     "output_type": "stream",
     "text": [
      "C:\\Users\\darsh\\Anaconda3\\lib\\site-packages\\ipykernel_launcher.py:4: SettingWithCopyWarning: \n",
      "A value is trying to be set on a copy of a slice from a DataFrame.\n",
      "Try using .loc[row_indexer,col_indexer] = value instead\n",
      "\n",
      "See the caveats in the documentation: https://pandas.pydata.org/pandas-docs/stable/user_guide/indexing.html#returning-a-view-versus-a-copy\n",
      "  after removing the cwd from sys.path.\n"
     ]
    },
    {
     "data": {
      "text/plain": [
       "Area               object\n",
       "Type               object\n",
       "Price in Lakhs    float64\n",
       "Apartment Name     object\n",
       "dtype: object"
      ]
     },
     "execution_count": 89,
     "metadata": {},
     "output_type": "execute_result"
    }
   ],
   "source": [
    "df1 = df[df['Price in Lakhs'].map(len) < 7]\n",
    "\n",
    "\n",
    "df1[\"Price in Lakhs\"] = df1[\"Price in Lakhs\"].astype(\"float\")\n",
    "df1.dtypes"
   ]
  },
  {
   "cell_type": "code",
   "execution_count": 114,
   "metadata": {},
   "outputs": [
    {
     "data": {
      "text/html": [
       "<div>\n",
       "<style scoped>\n",
       "    .dataframe tbody tr th:only-of-type {\n",
       "        vertical-align: middle;\n",
       "    }\n",
       "\n",
       "    .dataframe tbody tr th {\n",
       "        vertical-align: top;\n",
       "    }\n",
       "\n",
       "    .dataframe thead th {\n",
       "        text-align: right;\n",
       "    }\n",
       "</style>\n",
       "<table border=\"1\" class=\"dataframe\">\n",
       "  <thead>\n",
       "    <tr style=\"text-align: right;\">\n",
       "      <th></th>\n",
       "      <th>Price in Lakhs</th>\n",
       "    </tr>\n",
       "    <tr>\n",
       "      <th>Type</th>\n",
       "      <th></th>\n",
       "    </tr>\n",
       "  </thead>\n",
       "  <tbody>\n",
       "    <tr>\n",
       "      <th>1 BHK Apartment</th>\n",
       "      <td>15.988571</td>\n",
       "    </tr>\n",
       "    <tr>\n",
       "      <th>1 RK Apartment</th>\n",
       "      <td>7.650000</td>\n",
       "    </tr>\n",
       "    <tr>\n",
       "      <th>1.5 BHK Apartment</th>\n",
       "      <td>24.860000</td>\n",
       "    </tr>\n",
       "    <tr>\n",
       "      <th>2 BHK Apartment</th>\n",
       "      <td>22.812500</td>\n",
       "    </tr>\n",
       "  </tbody>\n",
       "</table>\n",
       "</div>"
      ],
      "text/plain": [
       "                   Price in Lakhs\n",
       "Type                             \n",
       "1 BHK Apartment         15.988571\n",
       "1 RK Apartment           7.650000\n",
       "1.5 BHK Apartment       24.860000\n",
       "2 BHK Apartment         22.812500"
      ]
     },
     "execution_count": 114,
     "metadata": {},
     "output_type": "execute_result"
    }
   ],
   "source": [
    "group = df1.groupby([\"Type\"]).mean()\n",
    "group.head()"
   ]
  },
  {
   "cell_type": "code",
   "execution_count": 115,
   "metadata": {},
   "outputs": [
    {
     "data": {
      "image/png": "[encoded data removed]",
      "text/plain": [
       "<Figure size 432x288 with 1 Axes>"
      ]
     },
     "metadata": {
      "needs_background": "light"
     },
     "output_type": "display_data"
    }
   ],
   "source": [
    "# importing matplotlib module  \n",
    "from matplotlib import pyplot as plt \n",
    "  \n",
    "x = df1['Type']\n",
    "y = df1['Price in Lakhs']\n",
    "  \n",
    "# Function to plot the bar \n",
    "plt.barh(x,y)\n",
    "plt.xticks(rotation=90)\n",
    "  \n",
    "# function to show the plot \n",
    "plt.show() \n"
   ]
  },
  {
   "cell_type": "code",
   "execution_count": null,
   "metadata": {},
   "outputs": [],
   "source": []
  }
 ],
 "metadata": {
  "kernelspec": {
   "display_name": "Python 3.7.4 64-bit ('darsh': virtualenv)",
   "language": "python",
   "name": "python37464bitdarshvirtualenv211eb79460dd4ca792ddd7e5ab1155a4"
  },
  "language_info": {
   "codemirror_mode": {
    "name": "ipython",
    "version": 3
   },
   "file_extension": ".py",
   "mimetype": "text/x-python",
   "name": "python",
   "nbconvert_exporter": "python",
   "pygments_lexer": "ipython3",
   "version": "3.7.4"
  }
 },
 "nbformat": 4,
 "nbformat_minor": 4
}
